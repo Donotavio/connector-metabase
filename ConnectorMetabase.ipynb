{
  "nbformat": 4,
  "nbformat_minor": 2,
  "metadata": {
    "colab": {
      "name": "ConnectorMetabase.ipynb",
      "provenance": [],
      "toc_visible": true
    },
    "kernelspec": {
      "name": "python3",
      "display_name": "Python 3"
    },
    "language_info": {
      "name": "python"
    }
  },
  "cells": [
    {
      "cell_type": "markdown",
      "source": [
        "# Connector Metabase\n",
        "\n"
      ],
      "metadata": {
        "id": "wvZKt_KqRha_"
      }
    },
    {
      "cell_type": "markdown",
      "source": [
        "#### -> **Connector**\n",
        "> *O Connector tem por propósito conectar-se ao Metabase idependentemente do token.*"
      ],
      "metadata": {
        "id": "KseWNtwYVewU"
      }
    },
    {
      "cell_type": "code",
      "execution_count": 1,
      "source": [
        "import requests\n",
        "import pandas as pd\n",
        "\n",
        "res = requests.post(\n",
        "    \"http://127.0.0.1/api/session\",\n",
        "    headers={\"Content-Type\": \"application/json\"},\n",
        "    json={\"username\": \"user@email.com\", \"password\": \"1a2b3c4d\"},\n",
        ")\n",
        "assert res.ok == True\n",
        "\n",
        "token = res.json()[\"id\"]\n"
      ],
      "outputs": [],
      "metadata": {
        "id": "i6Ov4g2KRTS1"
      }
    },
    {
      "cell_type": "code",
      "execution_count": null,
      "source": [],
      "outputs": [],
      "metadata": {}
    },
    {
      "cell_type": "markdown",
      "source": [
        "#### -> **Dumps**\n",
        "> *Os dumps são as listas de dados já tratados no metabase no qual encontra-se em uma question dentro do Metabase. Ex: \"https://127.0.0.1/question/2219\"*\n",
        "\n",
        "OBS: Você pode ir adicionado ou removendo conforme sua necessidade, assim mantento a integridade do tempo de resposta da API. Sempre alterando o {card_id} pelo id(numero) da sua question."
      ],
      "metadata": {
        "id": "5gyoD4p6R-Vc"
      }
    },
    {
      "cell_type": "code",
      "execution_count": 8,
      "source": [
        "customers = requests.post(\n",
        "    \"http://127.0.0.1/api/card/{cad_id}/query/json\",\n",
        "    headers={\"Content-Type\": \"application/json\", \"X-Metabase-Session\": token},\n",
        ")\n",
        "\n",
        "platforms = requests.post(\n",
        "    \"http://127.0.0.1/api/card/{cad_id}/query/json\",\n",
        "    headers={\"Content-Type\": \"application/json\", \"X-Metabase-Session\": token},\n",
        ")"
      ],
      "outputs": [],
      "metadata": {
        "id": "2FAmZCtWSodO"
      }
    },
    {
      "cell_type": "markdown",
      "source": [
        "#### **Agora podemos ver o output dos data dumps.**"
      ],
      "metadata": {
        "id": "6fR5kV3OTKv4"
      }
    },
    {
      "cell_type": "code",
      "execution_count": null,
      "source": [
        "platforms.json()"
      ],
      "outputs": [],
      "metadata": {
        "colab": {
          "base_uri": "https://localhost:8080/"
        },
        "id": "jeMblO9HTXGe",
        "outputId": "9f563ddc-9b76-4e0f-cfdd-27637abd3ddb"
      }
    },
    {
      "cell_type": "markdown",
      "source": [
        "#### **Exemplos de uso.**"
      ],
      "metadata": {
        "id": "FuqBppzhTkF-"
      }
    },
    {
      "cell_type": "code",
      "execution_count": null,
      "source": [
        "pd.DataFrame(customers.json())"
      ],
      "outputs": [],
      "metadata": {
        "colab": {
          "base_uri": "https://localhost:8080/",
          "height": 660
        },
        "id": "XYGCSrarTrJo",
        "outputId": "6964b51b-b02b-4010-c606-8160ac433a23"
      }
    },
    {
      "cell_type": "code",
      "execution_count": null,
      "source": [
        "pd.DataFrame(platforms.json())"
      ],
      "outputs": [],
      "metadata": {
        "colab": {
          "base_uri": "https://localhost:8080/",
          "height": 626
        },
        "id": "JRAFIiMYT1bH",
        "outputId": "9a51d01f-0d33-4e7b-eebb-5d970f775c27"
      }
    }
  ]
}